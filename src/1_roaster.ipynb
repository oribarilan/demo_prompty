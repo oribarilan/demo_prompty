{
 "cells": [
  {
   "cell_type": "code",
   "execution_count": 1,
   "metadata": {},
   "outputs": [],
   "source": [
    "from azure.identity import DefaultAzureCredential, get_bearer_token_provider\n",
    "from langchain_openai import AzureChatOpenAI\n",
    "\n",
    "\n",
    "endpoint = \"https://genai-w.openai.azure.com/\"\n",
    "deployment = \"gpt-4o-mini\"\n",
    "api_version = \"2024-05-01-preview\"\n",
    "\n",
    "token_provider = get_bearer_token_provider(DefaultAzureCredential(), \"https://cognitiveservices.azure.com/.default\")\n",
    "\n",
    "lm = AzureChatOpenAI(\n",
    "    azure_ad_token_provider=token_provider,\n",
    "    azure_endpoint=endpoint,\n",
    "    api_version=api_version,\n",
    "    azure_deployment=deployment,\n",
    ")"
   ]
  },
  {
   "cell_type": "code",
   "execution_count": 2,
   "metadata": {},
   "outputs": [],
   "source": [
    "from langchain.prompts import PromptTemplate\n",
    "from langchain_core.output_parsers import StrOutputParser\n",
    "\n",
    "system_prompt = \"\"\"\n",
    "You are a witty, playful AI. \n",
    "When the user shares something about themselves, respond with a short, clever roast.\n",
    "\n",
    "The user will share something about themselves in the <user_input> below. Roast them in one short sentence.\n",
    "\"\"\"\n",
    "\n",
    "sys = f\"<system>{system_prompt}</system>\\n\"\n",
    "template = sys + \"<user_input>{input}</<user_input>\"\n",
    "prompt = PromptTemplate.from_template(template=template)\n",
    "\n",
    "chain = prompt | lm | StrOutputParser()"
   ]
  },
  {
   "cell_type": "code",
   "execution_count": 3,
   "metadata": {},
   "outputs": [
    {
     "data": {
      "text/plain": [
       "'If pineapple belongs on pizza, then I guess we should start adding gummy bears to pasta, too!'"
      ]
     },
     "execution_count": 3,
     "metadata": {},
     "output_type": "execute_result"
    }
   ],
   "source": [
    "chain.invoke({\"input\": \"I am a huge fan of pineapple on pizza.\"})"
   ]
  },
  {
   "cell_type": "code",
   "execution_count": null,
   "metadata": {},
   "outputs": [],
   "source": []
  }
 ],
 "metadata": {
  "kernelspec": {
   "display_name": ".venv",
   "language": "python",
   "name": "python3"
  },
  "language_info": {
   "codemirror_mode": {
    "name": "ipython",
    "version": 3
   },
   "file_extension": ".py",
   "mimetype": "text/x-python",
   "name": "python",
   "nbconvert_exporter": "python",
   "pygments_lexer": "ipython3",
   "version": "3.9.18"
  }
 },
 "nbformat": 4,
 "nbformat_minor": 2
}
