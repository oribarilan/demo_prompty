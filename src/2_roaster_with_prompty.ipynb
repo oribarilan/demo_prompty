{
 "cells": [
  {
   "cell_type": "code",
   "execution_count": 10,
   "metadata": {},
   "outputs": [],
   "source": [
    "from azure.identity import DefaultAzureCredential, get_bearer_token_provider\n",
    "from langchain_openai import AzureChatOpenAI\n",
    "\n",
    "endpoint = \"https://genai-w.openai.azure.com/\"\n",
    "deployment = \"gpt-4o-mini\"\n",
    "api_version = \"2024-05-01-preview\"\n",
    "\n",
    "token_provider = get_bearer_token_provider(DefaultAzureCredential(), \"https://cognitiveservices.azure.com/.default\")\n",
    "\n",
    "lm = AzureChatOpenAI(\n",
    "    azure_ad_token_provider=token_provider,\n",
    "    azure_endpoint=endpoint,\n",
    "    api_version=api_version,\n",
    "    azure_deployment=deployment,\n",
    ")"
   ]
  },
  {
   "cell_type": "code",
   "execution_count": 11,
   "metadata": {},
   "outputs": [],
   "source": [
    "import os\n",
    "from pathlib import Path\n",
    "\n",
    "from langchain_core.output_parsers import StrOutputParser\n",
    "\n",
    "# pip install langchain-prompty\n",
    "from langchain_prompty import create_chat_prompt\n",
    "\n",
    "prompty_path = Path(os.getcwd()) / \"2_roaster.prompty\"\n",
    "prompt = create_chat_prompt(str(prompty_path))\n",
    "\n",
    "output_parser = StrOutputParser()\n",
    "\n",
    "chain = prompt | lm | output_parser\n"
   ]
  },
  {
   "cell_type": "code",
   "execution_count": 12,
   "metadata": {},
   "outputs": [
    {
     "data": {
      "text/plain": [
       "'Ah, a true culinary rebel—taking a bold stand against both fruit and common sense!'"
      ]
     },
     "execution_count": 12,
     "metadata": {},
     "output_type": "execute_result"
    }
   ],
   "source": [
    "chain.invoke({\"input\": \"I am a huge fan of pineapple on pizza.\"})"
   ]
  },
  {
   "cell_type": "code",
   "execution_count": null,
   "metadata": {},
   "outputs": [],
   "source": []
  }
 ],
 "metadata": {
  "kernelspec": {
   "display_name": ".venv",
   "language": "python",
   "name": "python3"
  },
  "language_info": {
   "codemirror_mode": {
    "name": "ipython",
    "version": 3
   },
   "file_extension": ".py",
   "mimetype": "text/x-python",
   "name": "python",
   "nbconvert_exporter": "python",
   "pygments_lexer": "ipython3",
   "version": "3.9.18"
  }
 },
 "nbformat": 4,
 "nbformat_minor": 2
}
